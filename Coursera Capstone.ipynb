{
 "cells": [
  {
   "cell_type": "markdown",
   "metadata": {},
   "source": [
    "# Effect of the neighbourhood on the apartment rent"
   ]
  },
  {
   "cell_type": "markdown",
   "metadata": {},
   "source": [
    "## Introduction\n",
    "\n",
    "\n",
    "The value of an apartment depends on more than the location and the features of a apartment.\n",
    "It also depends on the neighbourhood and the mobility. The aim of this project is to analyse the quality of a neighbourhood and the effect on the apartment rent.\n",
    "\n",
    "For example if an investor has a list of apartments which are available for sale he would probably only want to invest in an apartment that is located in a good neighboorhood. Evaluating the neighbourhood requires a lot of local knowledge or some research about it. \n",
    "If the quality of the neighbourhood could be evaluated by the foursquare data instead, this could save a lot of time and would help to evaluate the apartments automatically.\n"
   ]
  },
  {
   "cell_type": "markdown",
   "metadata": {},
   "source": [
    "## Data description"
   ]
  },
  {
   "cell_type": "markdown",
   "metadata": {},
   "source": [
    "The foursuqare data is used to evaluate the quality of the neighbourhood. \n",
    "Therefore different categories like\n",
    "- nearby trainstations\n",
    "- schools\n",
    "- universities\n",
    "- cultural venues\n",
    "- ... \n",
    "\n",
    "are analysed.\n",
    "The apartment data consists of the apartment base rent and additional information like latitude, longitude, square feet etc."
   ]
  },
  {
   "cell_type": "code",
   "execution_count": null,
   "metadata": {},
   "outputs": [],
   "source": []
  }
 ],
 "metadata": {
  "kernelspec": {
   "display_name": "Python 3",
   "language": "python",
   "name": "python3"
  },
  "language_info": {
   "codemirror_mode": {
    "name": "ipython",
    "version": 3
   },
   "file_extension": ".py",
   "mimetype": "text/x-python",
   "name": "python",
   "nbconvert_exporter": "python",
   "pygments_lexer": "ipython3",
   "version": "3.7.5"
  }
 },
 "nbformat": 4,
 "nbformat_minor": 2
}
