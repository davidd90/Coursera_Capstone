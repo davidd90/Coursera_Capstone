{
 "cells": [
  {
   "cell_type": "code",
   "execution_count": 2,
   "metadata": {},
   "outputs": [],
   "source": [
    "import bs4 as bs\n",
    "import urllib.request \n",
    "import time \n",
    "from datetime import datetime \n",
    "import pandas as pd\n",
    "import json\n",
    "import os\n",
    "import re\n"
   ]
  },
  {
   "cell_type": "code",
   "execution_count": null,
   "metadata": {
    "scrolled": true
   },
   "outputs": [
    {
     "name": "stdout",
     "output_type": "stream",
     "text": [
      "Loop 1 startet.\n",
      "Loop 1 endet.\n",
      "Loop 2 startet.\n",
      "Loop 1 endet.\n",
      "Loop 3 startet.\n",
      "Loop 1 endet.\n",
      "Loop 4 startet.\n",
      "Loop 1 endet.\n",
      "Loop 5 startet.\n",
      "Loop 1 endet.\n",
      "Loop 6 startet.\n",
      "Loop 1 endet.\n",
      "Loop 7 startet.\n",
      "Loop 1 endet.\n",
      "Loop 8 startet.\n",
      "Loop 1 endet.\n",
      "Loop 9 startet.\n",
      "Loop 1 endet.\n",
      "Loop 10 startet.\n",
      "Loop 1 endet.\n",
      "Loop 11 startet.\n",
      "Loop 1 endet.\n",
      "Loop 12 startet.\n",
      "Loop 1 endet.\n",
      "Loop 13 startet.\n",
      "Loop 1 endet.\n",
      "Loop 14 startet.\n",
      "Loop 1 endet.\n",
      "Loop 15 startet.\n",
      "Loop 1 endet.\n",
      "Loop 16 startet.\n",
      "Loop 1 endet.\n",
      "Loop 17 startet.\n",
      "Loop 1 endet.\n",
      "Loop 18 startet.\n",
      "Loop 1 endet.\n",
      "Loop 19 startet.\n",
      "Loop 1 endet.\n",
      "Loop 20 startet.\n",
      "Loop 1 endet.\n",
      "Loop 21 startet.\n",
      "Loop 1 endet.\n",
      "Loop 22 startet.\n",
      "Loop 1 endet.\n",
      "Loop 23 startet.\n",
      "Loop 1 endet.\n",
      "Loop 24 startet.\n",
      "Loop 1 endet.\n",
      "Loop 25 startet.\n",
      "Loop 1 endet.\n",
      "Loop 26 startet.\n",
      "Loop 1 endet.\n",
      "Loop 27 startet.\n",
      "Loop 1 endet.\n",
      "Loop 28 startet.\n",
      "Loop 1 endet.\n",
      "Loop 29 startet.\n",
      "Loop 1 endet.\n",
      "Loop 30 startet.\n",
      "Loop 1 endet.\n",
      "Loop 31 startet.\n",
      "Loop 1 endet.\n",
      "Loop 32 startet.\n",
      "Loop 1 endet.\n",
      "Loop 33 startet.\n",
      "Loop 1 endet.\n",
      "Loop 34 startet.\n",
      "Loop 1 endet.\n",
      "Loop 35 startet.\n",
      "Loop 1 endet.\n",
      "Loop 36 startet.\n",
      "Loop 1 endet.\n",
      "Loop 37 startet.\n",
      "Loop 1 endet.\n",
      "Loop 38 startet.\n",
      "Loop 1 endet.\n",
      "Loop 39 startet.\n",
      "Loop 1 endet.\n"
     ]
    }
   ],
   "source": [
    "start_time = time.time()\n",
    "count = 1\n",
    "\n",
    "l=[]\n",
    "df = pd.DataFrame()\n",
    "for page in range(1,360):\n",
    "    if(page % 10 ==0):\n",
    "        df.to_csv(\"Rohdaten/\"+str(datetime.now())[:19].replace(\":\",\"\").replace(\".\",\"\")+\".csv\",sep=\";\",decimal=\",\",encoding = \"utf-8\",index_label=\"timestamp\")\n",
    "        time.sleep(600)\n",
    "        df = pd.DataFrame()        \n",
    "    print(\"Loop \" + str(page) + \" startet.\")\n",
    "    try:\n",
    "        soup = bs.BeautifulSoup(urllib.request.urlopen('https://www.immobilienscout24.de/Suche/de/sachsen/leipzig/wohnung-mieten?pagenumber='+str(page)).read(),'lxml')\n",
    "        l=[]\n",
    "        for paragraph in soup.find_all(\"a\"):\n",
    "            if r\"/expose/\" in str(paragraph.get(\"href\")): \n",
    "                l.append(paragraph.get(\"href\").split(\"#\")[0]) \n",
    "                l = list(set(l))\n",
    "        for item in l:\n",
    "            try:\n",
    "                soup = bs.BeautifulSoup(urllib.request.urlopen('https://www.immobilienscout24.de'+item).read(),'lxml')\n",
    "                scripts = str(soup.find_all(\"script\"))\n",
    "                data = pd.DataFrame(json.loads(scripts.split(\"keyValues = \")[1].split(\"}\")[0]+str(\"}\")),index=[str(datetime.now())])\n",
    "                data[\"URL\"] = str(item)\n",
    "                beschreibung = [] \n",
    "\n",
    "                for i in soup.find_all(\"pre\"): \n",
    "                    beschreibung.append(i.text)\n",
    "                position = soup.find_all(\"script\", type=\"text/javascript\")\n",
    "                \n",
    "                position = str(soup.find_all(\"script\")).split(\"IS24.expose.mapModel = \")[1].split(\"{\")[4].split(\"}\")[0].split(\"\\n\")\n",
    "                if(len(position)!=4):\n",
    "                    continue\n",
    "                else:\n",
    "                    split = position[1].split(\":\")\n",
    "                    data[\"lat\"] = float(split[1][1:-2])\n",
    "                    split = position[2].split(\":\")        \n",
    "                    data[\"long\"] = float(split[1])\n",
    "                    \n",
    "                data[\"beschreibung\"] = str(beschreibung)\n",
    "                df = df.append(data)\n",
    "            except Exception as e:\n",
    "                print(str(datetime.now())+\": \" + str(e)) \n",
    "                l = list(filter(lambda x: x != item, l))\n",
    "                print(\"ID \" + str(item) + \" entfernt.\")\n",
    "    except Exception as e: \n",
    "        print(str(datetime.now())+\": \" + str(e)) \n",
    "    print(\"Loop \" + str(count) + \" endet.\")  \n",
    "\n",
    "print(\"FERTIG!\")\n"
   ]
  },
  {
   "cell_type": "code",
   "execution_count": null,
   "metadata": {},
   "outputs": [],
   "source": [
    "df.to_csv(\"Rohdaten/\"+str(datetime.now())[:19].replace(\":\",\"\").replace(\".\",\"\")+\".csv\",sep=\";\",decimal=\",\",encoding = \"utf-8\",index_label=\"timestamp\")\n",
    "print(\"FERTIG!\")"
   ]
  },
  {
   "cell_type": "code",
   "execution_count": 25,
   "metadata": {},
   "outputs": [
    {
     "name": "stdout",
     "output_type": "stream",
     "text": [
      "1. Datei: 2020-01-01 141758.csv\n",
      "2. Datei: 2020-01-01 143810.csv\n",
      "3. Datei: 2020-01-01 145804.csv\n",
      "4. Datei: 2020-01-01 151840.csv\n",
      "5. Datei: 2020-01-01 153928.csv\n",
      "6. Datei: 2020-01-01 160000.csv\n",
      "7. Datei: 2020-01-01 162018.csv\n",
      "8. Datei: 2020-01-01 164043.csv\n",
      "9. Datei: 2020-01-01 170107.csv\n",
      "10. Datei: 2020-01-01 172102.csv\n",
      "11. Datei: 2020-01-01 175030.csv\n",
      "12. Datei: 2020-01-01 180237.csv\n",
      "13. Datei: 2020-01-01 181446.csv\n",
      "14. Datei: 2020-01-01 182737.csv\n",
      "15. Datei: 2020-01-01 183908.csv\n",
      "16. Datei: 2020-01-01 184434.csv\n",
      "17. Datei: 2020-01-01 185039.csv\n",
      "18. Datei: 2020-01-01 190649.csv\n",
      "19. Datei: 2020-01-01 192859.csv\n",
      "20. Datei: 2020-01-01 195129.csv\n",
      "21. Datei: 2020-01-01 201352.csv\n",
      "22. Datei: 2020-01-01 203611.csv\n",
      "23. Datei: 2020-01-01 205828.csv\n",
      "24. Datei: 2020-01-01 212046.csv\n",
      "25. Datei: 2020-01-01 214306.csv\n",
      "26. Datei: 2020-01-01 220521.csv\n",
      "27. Datei: 2020-01-01 222741.csv\n",
      "28. Datei: 2020-01-01 224956.csv\n",
      "29. Datei: 2020-01-01 231214.csv\n",
      "30. Datei: 2020-01-01 233429.csv\n",
      "31. Datei: 2020-01-01 235023.csv\n",
      "32. Datei: 2020-01-01 235641.csv\n",
      "33. Datei: 2020-01-02 000023.csv\n",
      "34. Datei: 2020-01-02 001023.csv\n",
      "35. Datei: 2020-01-02 001854.csv\n",
      "36. Datei: 2020-01-02 002024.csv\n",
      "37. Datei: 2020-01-02 003024.csv\n",
      "38. Datei: 2020-01-02 004024.csv\n",
      "39. Datei: 2020-01-02 004102.csv\n",
      "40. Datei: 2020-01-02 005025.csv\n",
      "41. Datei: 2020-01-02 010025.csv\n",
      "42. Datei: 2020-01-02 010319.csv\n",
      "43. Datei: 2020-01-02 011025.csv\n",
      "44. Datei: 2020-01-02 012025.csv\n",
      "45. Datei: 2020-01-02 012535.csv\n",
      "46. Datei: 2020-01-02 013026.csv\n",
      "47. Datei: 2020-01-02 014026.csv\n",
      "48. Datei: 2020-01-02 014758.csv\n",
      "49. Datei: 2020-01-02 015026.csv\n",
      "50. Datei: 2020-01-02 020027.csv\n",
      "51. Datei: 2020-01-02 021022.csv\n",
      "52. Datei: 2020-01-02 021027.csv\n",
      "53. Datei: 2020-01-02 022027.csv\n",
      "54. Datei: 2020-01-02 023028.csv\n",
      "55. Datei: 2020-01-02 023245.csv\n",
      "56. Datei: 2020-01-02 024028.csv\n",
      "57. Datei: 2020-01-02 024426.csv\n",
      "58. Datei: 2020-01-02 025028.csv\n",
      "59. Datei: 2020-01-02 025456.csv\n",
      "60. Datei: 2020-01-02 030029.csv\n",
      "61. Datei: 2020-01-02 030526.csv\n",
      "62. Datei: 2020-01-02 031029.csv\n",
      "63. Datei: 2020-01-02 031556.csv\n",
      "64. Datei: 2020-01-02 032029.csv\n",
      "65. Datei: 2020-01-02 032626.csv\n",
      "66. Datei: 2020-01-02 033030.csv\n",
      "67. Datei: 2020-01-02 033656.csv\n",
      "68. Datei: 2020-01-02 034030.csv\n",
      "69. Datei: 2020-01-02 034726.csv\n",
      "70. Datei: 2020-01-02 035030.csv\n",
      "71. Datei: 2020-01-02 035757.csv\n",
      "72. Datei: 2020-01-02 040030.csv\n",
      "73. Datei: 2020-01-02 040827.csv\n",
      "74. Datei: 2020-01-02 041031.csv\n",
      "75. Datei: 2020-01-02 041857.csv\n",
      "76. Datei: 2020-01-02 042031.csv\n",
      "77. Datei: 2020-01-02 042927.csv\n",
      "78. Datei: 2020-01-02 043031.csv\n",
      "79. Datei: 2020-01-02 043957.csv\n",
      "80. Datei: 2020-01-02 045028.csv\n",
      "81. Datei: 2020-01-02 181942.csv\n"
     ]
    }
   ],
   "source": [
    "df = pd.DataFrame()\n",
    "\n",
    "count=1\n",
    "\n",
    "for i in os.listdir(\"Rohdaten/\"):\n",
    "    print(str(count)+\". Datei: \"+str(i))\n",
    "    count+=1\n",
    "    df = df.append(pd.read_csv(\"Rohdaten/\" + str(i),sep=\";\",encoding=\"utf-8\",decimal=\",\"))"
   ]
  },
  {
   "cell_type": "code",
   "execution_count": 26,
   "metadata": {},
   "outputs": [
    {
     "data": {
      "text/plain": [
       "(14589, 87)"
      ]
     },
     "execution_count": 26,
     "metadata": {},
     "output_type": "execute_result"
    }
   ],
   "source": [
    "df.shape"
   ]
  },
  {
   "cell_type": "code",
   "execution_count": 27,
   "metadata": {},
   "outputs": [],
   "source": [
    "df = df.drop_duplicates(subset=\"URL\")"
   ]
  },
  {
   "cell_type": "code",
   "execution_count": 28,
   "metadata": {},
   "outputs": [
    {
     "data": {
      "text/plain": [
       "(3981, 87)"
      ]
     },
     "execution_count": 28,
     "metadata": {},
     "output_type": "execute_result"
    }
   ],
   "source": [
    "df.shape"
   ]
  },
  {
   "cell_type": "code",
   "execution_count": 29,
   "metadata": {},
   "outputs": [],
   "source": [
    "df.to_csv(\"Rohdaten/Final.csv\",sep=\";\",encoding=\"utf-8\",decimal=\",\")"
   ]
  },
  {
   "cell_type": "code",
   "execution_count": null,
   "metadata": {},
   "outputs": [],
   "source": []
  }
 ],
 "metadata": {
  "kernelspec": {
   "display_name": "Python 3",
   "language": "python",
   "name": "python3"
  },
  "language_info": {
   "codemirror_mode": {
    "name": "ipython",
    "version": 3
   },
   "file_extension": ".py",
   "mimetype": "text/x-python",
   "name": "python",
   "nbconvert_exporter": "python",
   "pygments_lexer": "ipython3",
   "version": "3.7.5"
  }
 },
 "nbformat": 4,
 "nbformat_minor": 2
}
